{
 "cells": [
  {
   "cell_type": "code",
   "execution_count": 1,
   "id": "1ba25862",
   "metadata": {},
   "outputs": [],
   "source": [
    "import pandas as pd\n",
    "import numpy as np\n",
    "import matplotlib.pyplot as plt\n",
    "%matplotlib inline\n",
    "import seaborn as sns"
   ]
  },
  {
   "cell_type": "code",
   "execution_count": 2,
   "id": "dd4c9c2c",
   "metadata": {
    "scrolled": true
   },
   "outputs": [
    {
     "data": {
      "text/html": [
       "<div>\n",
       "<style scoped>\n",
       "    .dataframe tbody tr th:only-of-type {\n",
       "        vertical-align: middle;\n",
       "    }\n",
       "\n",
       "    .dataframe tbody tr th {\n",
       "        vertical-align: top;\n",
       "    }\n",
       "\n",
       "    .dataframe thead th {\n",
       "        text-align: right;\n",
       "    }\n",
       "</style>\n",
       "<table border=\"1\" class=\"dataframe\">\n",
       "  <thead>\n",
       "    <tr style=\"text-align: right;\">\n",
       "      <th></th>\n",
       "      <th>DBNOs</th>\n",
       "      <th>assists</th>\n",
       "      <th>boosts</th>\n",
       "      <th>damageDealt</th>\n",
       "      <th>deathType</th>\n",
       "      <th>headshotKills</th>\n",
       "      <th>heals</th>\n",
       "      <th>killPlace</th>\n",
       "      <th>killStreaks</th>\n",
       "      <th>kills</th>\n",
       "      <th>...</th>\n",
       "      <th>revives</th>\n",
       "      <th>rideDistance</th>\n",
       "      <th>roadKills</th>\n",
       "      <th>swimDistance</th>\n",
       "      <th>teamKills</th>\n",
       "      <th>timeSurvived</th>\n",
       "      <th>vehicleDestroys</th>\n",
       "      <th>walkDistance</th>\n",
       "      <th>weaponsAcquired</th>\n",
       "      <th>winPlace</th>\n",
       "    </tr>\n",
       "  </thead>\n",
       "  <tbody>\n",
       "    <tr>\n",
       "      <th>0</th>\n",
       "      <td>1</td>\n",
       "      <td>3</td>\n",
       "      <td>11</td>\n",
       "      <td>395.433780</td>\n",
       "      <td>byplayer</td>\n",
       "      <td>0</td>\n",
       "      <td>3</td>\n",
       "      <td>10</td>\n",
       "      <td>1</td>\n",
       "      <td>2</td>\n",
       "      <td>...</td>\n",
       "      <td>0</td>\n",
       "      <td>2403.4287</td>\n",
       "      <td>0</td>\n",
       "      <td>0.0</td>\n",
       "      <td>0</td>\n",
       "      <td>1492.000</td>\n",
       "      <td>0</td>\n",
       "      <td>2498.04880</td>\n",
       "      <td>8</td>\n",
       "      <td>4</td>\n",
       "    </tr>\n",
       "    <tr>\n",
       "      <th>1</th>\n",
       "      <td>0</td>\n",
       "      <td>1</td>\n",
       "      <td>0</td>\n",
       "      <td>0.000000</td>\n",
       "      <td>byzone</td>\n",
       "      <td>0</td>\n",
       "      <td>0</td>\n",
       "      <td>55</td>\n",
       "      <td>0</td>\n",
       "      <td>0</td>\n",
       "      <td>...</td>\n",
       "      <td>0</td>\n",
       "      <td>0.0000</td>\n",
       "      <td>0</td>\n",
       "      <td>0.0</td>\n",
       "      <td>0</td>\n",
       "      <td>893.000</td>\n",
       "      <td>0</td>\n",
       "      <td>239.93445</td>\n",
       "      <td>2</td>\n",
       "      <td>15</td>\n",
       "    </tr>\n",
       "    <tr>\n",
       "      <th>2</th>\n",
       "      <td>10</td>\n",
       "      <td>3</td>\n",
       "      <td>7</td>\n",
       "      <td>1284.158400</td>\n",
       "      <td>alive</td>\n",
       "      <td>3</td>\n",
       "      <td>3</td>\n",
       "      <td>2</td>\n",
       "      <td>4</td>\n",
       "      <td>8</td>\n",
       "      <td>...</td>\n",
       "      <td>0</td>\n",
       "      <td>4998.7627</td>\n",
       "      <td>0</td>\n",
       "      <td>0.0</td>\n",
       "      <td>0</td>\n",
       "      <td>1613.508</td>\n",
       "      <td>0</td>\n",
       "      <td>1773.35990</td>\n",
       "      <td>3</td>\n",
       "      <td>1</td>\n",
       "    </tr>\n",
       "    <tr>\n",
       "      <th>3</th>\n",
       "      <td>0</td>\n",
       "      <td>0</td>\n",
       "      <td>1</td>\n",
       "      <td>88.794075</td>\n",
       "      <td>byplayer</td>\n",
       "      <td>0</td>\n",
       "      <td>0</td>\n",
       "      <td>13</td>\n",
       "      <td>1</td>\n",
       "      <td>1</td>\n",
       "      <td>...</td>\n",
       "      <td>0</td>\n",
       "      <td>4143.0120</td>\n",
       "      <td>1</td>\n",
       "      <td>0.0</td>\n",
       "      <td>0</td>\n",
       "      <td>1295.000</td>\n",
       "      <td>0</td>\n",
       "      <td>826.75073</td>\n",
       "      <td>4</td>\n",
       "      <td>2</td>\n",
       "    </tr>\n",
       "    <tr>\n",
       "      <th>4</th>\n",
       "      <td>8</td>\n",
       "      <td>3</td>\n",
       "      <td>9</td>\n",
       "      <td>916.480100</td>\n",
       "      <td>byplayer</td>\n",
       "      <td>3</td>\n",
       "      <td>1</td>\n",
       "      <td>1</td>\n",
       "      <td>2</td>\n",
       "      <td>6</td>\n",
       "      <td>...</td>\n",
       "      <td>2</td>\n",
       "      <td>5006.8066</td>\n",
       "      <td>0</td>\n",
       "      <td>0.0</td>\n",
       "      <td>0</td>\n",
       "      <td>1456.000</td>\n",
       "      <td>0</td>\n",
       "      <td>1779.63440</td>\n",
       "      <td>3</td>\n",
       "      <td>5</td>\n",
       "    </tr>\n",
       "  </tbody>\n",
       "</table>\n",
       "<p>5 rows × 25 columns</p>\n",
       "</div>"
      ],
      "text/plain": [
       "   DBNOs  assists  boosts  damageDealt deathType  headshotKills  heals  \\\n",
       "0      1        3      11   395.433780  byplayer              0      3   \n",
       "1      0        1       0     0.000000    byzone              0      0   \n",
       "2     10        3       7  1284.158400     alive              3      3   \n",
       "3      0        0       1    88.794075  byplayer              0      0   \n",
       "4      8        3       9   916.480100  byplayer              3      1   \n",
       "\n",
       "   killPlace  killStreaks  kills  ...  revives rideDistance roadKills  \\\n",
       "0         10            1      2  ...        0    2403.4287         0   \n",
       "1         55            0      0  ...        0       0.0000         0   \n",
       "2          2            4      8  ...        0    4998.7627         0   \n",
       "3         13            1      1  ...        0    4143.0120         1   \n",
       "4          1            2      6  ...        2    5006.8066         0   \n",
       "\n",
       "  swimDistance teamKills  timeSurvived  vehicleDestroys  walkDistance  \\\n",
       "0          0.0         0      1492.000                0    2498.04880   \n",
       "1          0.0         0       893.000                0     239.93445   \n",
       "2          0.0         0      1613.508                0    1773.35990   \n",
       "3          0.0         0      1295.000                0     826.75073   \n",
       "4          0.0         0      1456.000                0    1779.63440   \n",
       "\n",
       "   weaponsAcquired  winPlace  \n",
       "0                8         4  \n",
       "1                2        15  \n",
       "2                3         1  \n",
       "3                4         2  \n",
       "4                3         5  \n",
       "\n",
       "[5 rows x 25 columns]"
      ]
     },
     "execution_count": 2,
     "metadata": {},
     "output_type": "execute_result"
    }
   ],
   "source": [
    "data = pd.read_csv(\"0723_all_concat.csv\", index_col = 0 )\n",
    "data.head()"
   ]
  },
  {
   "cell_type": "code",
   "execution_count": 3,
   "id": "bf475e36",
   "metadata": {},
   "outputs": [
    {
     "data": {
      "text/plain": [
       "Index(['DBNOs', 'assists', 'boosts', 'damageDealt', 'deathType',\n",
       "       'headshotKills', 'heals', 'killPlace', 'killStreaks', 'kills',\n",
       "       'longestKill', 'mapName', 'matchType', 'name', 'playerId', 'revives',\n",
       "       'rideDistance', 'roadKills', 'swimDistance', 'teamKills',\n",
       "       'timeSurvived', 'vehicleDestroys', 'walkDistance', 'weaponsAcquired',\n",
       "       'winPlace'],\n",
       "      dtype='object')"
      ]
     },
     "execution_count": 3,
     "metadata": {},
     "output_type": "execute_result"
    }
   ],
   "source": [
    "data.columns"
   ]
  },
  {
   "cell_type": "code",
   "execution_count": null,
   "id": "c346ecb0",
   "metadata": {},
   "outputs": [],
   "source": []
  },
  {
   "cell_type": "code",
   "execution_count": null,
   "id": "f9575e17",
   "metadata": {},
   "outputs": [],
   "source": []
  },
  {
   "cell_type": "code",
   "execution_count": 3,
   "id": "8dc63404",
   "metadata": {},
   "outputs": [
    {
     "data": {
      "text/plain": [
       "(37065, 25)"
      ]
     },
     "execution_count": 3,
     "metadata": {},
     "output_type": "execute_result"
    }
   ],
   "source": [
    "data.shape"
   ]
  },
  {
   "cell_type": "code",
   "execution_count": 4,
   "id": "7be3caa0",
   "metadata": {},
   "outputs": [
    {
     "data": {
      "text/plain": [
       "Index(['DBNOs', 'assists', 'boosts', 'damageDealt', 'deathType',\n",
       "       'headshotKills', 'heals', 'killPlace', 'killStreaks', 'kills',\n",
       "       'longestKill', 'mapName', 'matchType', 'name', 'playerId', 'revives',\n",
       "       'rideDistance', 'roadKills', 'swimDistance', 'teamKills',\n",
       "       'timeSurvived', 'vehicleDestroys', 'walkDistance', 'weaponsAcquired',\n",
       "       'winPlace'],\n",
       "      dtype='object')"
      ]
     },
     "execution_count": 4,
     "metadata": {},
     "output_type": "execute_result"
    }
   ],
   "source": [
    "data.columns"
   ]
  },
  {
   "cell_type": "code",
   "execution_count": 4,
   "id": "0d7e3ce3",
   "metadata": {},
   "outputs": [],
   "source": [
    "# 필요없는 변수 삭제\n",
    "train = data.drop(columns = [\"playerId\",\"name\"], axis = 1)"
   ]
  },
  {
   "cell_type": "code",
   "execution_count": 5,
   "id": "66d3cb6f",
   "metadata": {},
   "outputs": [],
   "source": [
    "# 게임에서 튕긴 매치 제거\n",
    "# 이동거리0 피해량0인 튕긴것같은 매치스텟\n",
    "\n",
    "logout_index = train[(train[\"walkDistance\"] == 0) & (train[\"damageDealt\"] == 0)].index\n",
    "train.drop(logout_index, inplace = True)"
   ]
  },
  {
   "cell_type": "markdown",
   "id": "ac1c0a11",
   "metadata": {},
   "source": [
    "## Feature Engineering"
   ]
  },
  {
   "cell_type": "markdown",
   "id": "ae68590d",
   "metadata": {},
   "source": [
    "1. 이동 거리 가중 평균\n",
    "\n",
    "평균 속도로 각 방법 별로 이동 시간 예측 → 그 비율을 계산해서 가중치!"
   ]
  },
  {
   "cell_type": "code",
   "execution_count": 6,
   "id": "bc9ff65e",
   "metadata": {},
   "outputs": [],
   "source": [
    "# 가중치 결과값 → 수영 0.00 / 걷기 0.78 / 자동차 0.22\n",
    "train[\"movement_w_mean\"] = 0*train[\"swimDistance\"] + 0.78*train[\"walkDistance\"] + 0.22*train[\"vehicleDestroys\"]"
   ]
  },
  {
   "cell_type": "markdown",
   "id": "4794f0c5",
   "metadata": {},
   "source": [
    "2. 킬플레이스/윈플레이스\n",
    "\n",
    "killPlace : 킬수에 따른 그 매치에서의 순위\n",
    "winPlace : 몇번째로 죽었는가에 대한 순위\n",
    "\n",
    "=> 얼마나 적게 죽이고 오래 살았나를 보면 \"간디\"메타와 \"여포\"메타를 구별지을 지표라 생각된다."
   ]
  },
  {
   "cell_type": "code",
   "execution_count": 7,
   "id": "cdff7e47",
   "metadata": {},
   "outputs": [],
   "source": [
    "train[\"kill_over_winPlae\"] = round(train[\"killPlace\"]/train[\"winPlace\"], 4)"
   ]
  },
  {
   "cell_type": "markdown",
   "id": "c1006adc",
   "metadata": {},
   "source": [
    "3. 킬수/생존시간  \n",
    "\n",
    "\"여포\"메타일수록 생존시간대비 킬수가 높을 것이다.\n"
   ]
  },
  {
   "cell_type": "code",
   "execution_count": 8,
   "id": "c1d947a6",
   "metadata": {},
   "outputs": [],
   "source": [
    "train[\"kill_over_timeSurvived\"] = round(train[\"kills\"]/train[\"timeSurvived\"], 4)"
   ]
  },
  {
   "cell_type": "markdown",
   "id": "6408095e",
   "metadata": {},
   "source": [
    "4. Label encoding of categorical variable"
   ]
  },
  {
   "cell_type": "code",
   "execution_count": 10,
   "id": "acd55891",
   "metadata": {},
   "outputs": [],
   "source": [
    "from sklearn.preprocessing import LabelEncoder"
   ]
  },
  {
   "cell_type": "code",
   "execution_count": 11,
   "id": "1691987b",
   "metadata": {},
   "outputs": [],
   "source": [
    "columns = [\"deathType\", \"mapName\", \"matchType\"]\n",
    "\n",
    "for col in columns :\n",
    "    label_encoder = LabelEncoder()\n",
    "    label_encoder.fit(train[col])\n",
    "    train[col] = label_encoder.transform(train[col])"
   ]
  },
  {
   "cell_type": "code",
   "execution_count": 12,
   "id": "48a8a855",
   "metadata": {},
   "outputs": [
    {
     "name": "stdout",
     "output_type": "stream",
     "text": [
      "<class 'pandas.core.frame.DataFrame'>\n",
      "Int64Index: 36593 entries, 0 to 37064\n",
      "Data columns (total 26 columns):\n",
      " #   Column                  Non-Null Count  Dtype  \n",
      "---  ------                  --------------  -----  \n",
      " 0   DBNOs                   36593 non-null  int64  \n",
      " 1   assists                 36593 non-null  int64  \n",
      " 2   boosts                  36593 non-null  int64  \n",
      " 3   damageDealt             36593 non-null  float64\n",
      " 4   deathType               36593 non-null  int32  \n",
      " 5   headshotKills           36593 non-null  int64  \n",
      " 6   heals                   36593 non-null  int64  \n",
      " 7   killPlace               36593 non-null  int64  \n",
      " 8   killStreaks             36593 non-null  int64  \n",
      " 9   kills                   36593 non-null  int64  \n",
      " 10  longestKill             36593 non-null  float64\n",
      " 11  mapName                 36593 non-null  int32  \n",
      " 12  matchType               36593 non-null  int32  \n",
      " 13  revives                 36593 non-null  int64  \n",
      " 14  rideDistance            36593 non-null  float64\n",
      " 15  roadKills               36593 non-null  int64  \n",
      " 16  swimDistance            36593 non-null  float64\n",
      " 17  teamKills               36593 non-null  int64  \n",
      " 18  timeSurvived            36593 non-null  float64\n",
      " 19  vehicleDestroys         36593 non-null  int64  \n",
      " 20  walkDistance            36593 non-null  float64\n",
      " 21  weaponsAcquired         36593 non-null  int64  \n",
      " 22  winPlace                36593 non-null  int64  \n",
      " 23  movement_w_mean         36593 non-null  float64\n",
      " 24  kill_over_winPlae       36593 non-null  float64\n",
      " 25  kill_over_timeSurvived  36593 non-null  float64\n",
      "dtypes: float64(9), int32(3), int64(14)\n",
      "memory usage: 7.1 MB\n"
     ]
    }
   ],
   "source": [
    "train.info()"
   ]
  },
  {
   "cell_type": "code",
   "execution_count": 12,
   "id": "78931f5e",
   "metadata": {},
   "outputs": [],
   "source": [
    "# 0으로 나눠져 NaN되는 것을 입실론으로 처리\n",
    "# 일단 드랍하고 진행\n",
    "train[\"longestKill_over_movement_w_mean\"] = round(train[\"longestKill\"]/(train[\"movement_w_mean\"]+ 1e-10), 4)"
   ]
  },
  {
   "cell_type": "code",
   "execution_count": 13,
   "id": "71e8a5e3",
   "metadata": {},
   "outputs": [],
   "source": [
    "# 했는데 스케일링에서 infinity? 너무 큰 값 오류\n",
    "train[\"timeSurvived_over_weaponsAcquired\"] = round(train[\"timeSurvived\"]/(train[\"weaponsAcquired\"]+ 1e-10), 4)"
   ]
  },
  {
   "cell_type": "code",
   "execution_count": null,
   "id": "0e59269a",
   "metadata": {},
   "outputs": [],
   "source": []
  },
  {
   "cell_type": "code",
   "execution_count": null,
   "id": "41fa083e",
   "metadata": {},
   "outputs": [],
   "source": []
  },
  {
   "cell_type": "code",
   "execution_count": null,
   "id": "aceffb18",
   "metadata": {},
   "outputs": [],
   "source": []
  },
  {
   "cell_type": "code",
   "execution_count": null,
   "id": "a13652be",
   "metadata": {},
   "outputs": [],
   "source": []
  },
  {
   "cell_type": "code",
   "execution_count": null,
   "id": "f39b7bb6",
   "metadata": {},
   "outputs": [],
   "source": []
  },
  {
   "cell_type": "code",
   "execution_count": null,
   "id": "e0eec5df",
   "metadata": {},
   "outputs": [],
   "source": []
  },
  {
   "cell_type": "markdown",
   "id": "55c5f5cd",
   "metadata": {},
   "source": [
    "## Normalization\n",
    "### MinMaxScaler"
   ]
  },
  {
   "cell_type": "code",
   "execution_count": 14,
   "id": "6d01dd97",
   "metadata": {},
   "outputs": [],
   "source": [
    "from sklearn.preprocessing import MinMaxScaler"
   ]
  },
  {
   "cell_type": "code",
   "execution_count": 15,
   "id": "12dbe012",
   "metadata": {},
   "outputs": [],
   "source": [
    "scaler = MinMaxScaler()\n",
    "scaler.fit(train)\n",
    "train_scaled = scaler.transform(train)\n",
    "\n",
    "train_scaled_df = pd.DataFrame(data = train_scaled, columns = train.columns )"
   ]
  },
  {
   "cell_type": "code",
   "execution_count": 16,
   "id": "86f88ec9",
   "metadata": {
    "scrolled": true
   },
   "outputs": [
    {
     "data": {
      "text/plain": [
       "(36593, 28)"
      ]
     },
     "execution_count": 16,
     "metadata": {},
     "output_type": "execute_result"
    }
   ],
   "source": [
    "train_scaled_df.shape"
   ]
  },
  {
   "cell_type": "code",
   "execution_count": null,
   "id": "7cad759f",
   "metadata": {},
   "outputs": [],
   "source": []
  },
  {
   "cell_type": "markdown",
   "id": "6bc9bcc3",
   "metadata": {},
   "source": [
    "### StandardScaler"
   ]
  },
  {
   "cell_type": "code",
   "execution_count": 16,
   "id": "04f8b255",
   "metadata": {},
   "outputs": [],
   "source": [
    "from sklearn.preprocessing import StandardScaler"
   ]
  },
  {
   "cell_type": "code",
   "execution_count": 17,
   "id": "93c387ea",
   "metadata": {},
   "outputs": [],
   "source": [
    "scaler = StandardScaler()\n",
    "scaler.fit(train)\n",
    "train_scaled = scaler.transform(train)\n",
    "\n",
    "sta_train_scaled_df = pd.DataFrame(data = train_scaled, columns = train.columns )"
   ]
  },
  {
   "cell_type": "code",
   "execution_count": null,
   "id": "8c5c9f80",
   "metadata": {},
   "outputs": [],
   "source": []
  },
  {
   "cell_type": "code",
   "execution_count": null,
   "id": "1899fbfb",
   "metadata": {},
   "outputs": [],
   "source": []
  },
  {
   "cell_type": "code",
   "execution_count": null,
   "id": "9f74243d",
   "metadata": {},
   "outputs": [],
   "source": []
  },
  {
   "cell_type": "markdown",
   "id": "3a32d4e7",
   "metadata": {},
   "source": [
    "# 군집분석\n",
    "\n",
    "## GMM"
   ]
  },
  {
   "cell_type": "code",
   "execution_count": 17,
   "id": "52461249",
   "metadata": {},
   "outputs": [],
   "source": [
    "from sklearn.mixture import GaussianMixture"
   ]
  },
  {
   "cell_type": "code",
   "execution_count": 19,
   "id": "748a479b",
   "metadata": {},
   "outputs": [],
   "source": [
    "# 군집갯수 : 2개"
   ]
  },
  {
   "cell_type": "code",
   "execution_count": 64,
   "id": "891b5ae9",
   "metadata": {},
   "outputs": [],
   "source": [
    "# 학습\n",
    "# 세팅과 피팅\n",
    "gmm = GaussianMixture(n_components = 3, random_state = 1234).fit(train)\n",
    "# 아웃풋\n",
    "gmm_cluster_labels = gmm.predict(train)\n",
    "\n",
    "# 쌓기\n",
    "train_scaled_df['GMM_cluster'] = gmm_cluster_labels"
   ]
  },
  {
   "cell_type": "code",
   "execution_count": 30,
   "id": "351adc8e",
   "metadata": {
    "scrolled": true
   },
   "outputs": [
    {
     "data": {
      "text/html": [
       "<div>\n",
       "<style scoped>\n",
       "    .dataframe tbody tr th:only-of-type {\n",
       "        vertical-align: middle;\n",
       "    }\n",
       "\n",
       "    .dataframe tbody tr th {\n",
       "        vertical-align: top;\n",
       "    }\n",
       "\n",
       "    .dataframe thead th {\n",
       "        text-align: right;\n",
       "    }\n",
       "</style>\n",
       "<table border=\"1\" class=\"dataframe\">\n",
       "  <thead>\n",
       "    <tr style=\"text-align: right;\">\n",
       "      <th></th>\n",
       "      <th>DBNOs</th>\n",
       "      <th>assists</th>\n",
       "      <th>boosts</th>\n",
       "      <th>damageDealt</th>\n",
       "      <th>deathType</th>\n",
       "      <th>headshotKills</th>\n",
       "      <th>heals</th>\n",
       "      <th>killPlace</th>\n",
       "      <th>killStreaks</th>\n",
       "      <th>kills</th>\n",
       "      <th>...</th>\n",
       "      <th>teamKills</th>\n",
       "      <th>timeSurvived</th>\n",
       "      <th>vehicleDestroys</th>\n",
       "      <th>walkDistance</th>\n",
       "      <th>weaponsAcquired</th>\n",
       "      <th>winPlace</th>\n",
       "      <th>movement_w_mean</th>\n",
       "      <th>kill_over_winPlae</th>\n",
       "      <th>kill_over_timeSurvived</th>\n",
       "      <th>GMM_cluster</th>\n",
       "    </tr>\n",
       "  </thead>\n",
       "  <tbody>\n",
       "    <tr>\n",
       "      <th>0</th>\n",
       "      <td>-0.592942</td>\n",
       "      <td>1.254202</td>\n",
       "      <td>1.402065</td>\n",
       "      <td>-0.281955</td>\n",
       "      <td>0.155560</td>\n",
       "      <td>-0.571542</td>\n",
       "      <td>0.022482</td>\n",
       "      <td>-0.386525</td>\n",
       "      <td>-0.159618</td>\n",
       "      <td>-0.281742</td>\n",
       "      <td>...</td>\n",
       "      <td>-0.048602</td>\n",
       "      <td>0.591596</td>\n",
       "      <td>-0.292754</td>\n",
       "      <td>0.618270</td>\n",
       "      <td>0.346666</td>\n",
       "      <td>-0.402621</td>\n",
       "      <td>0.618249</td>\n",
       "      <td>-0.271552</td>\n",
       "      <td>-0.207444</td>\n",
       "      <td>0</td>\n",
       "    </tr>\n",
       "    <tr>\n",
       "      <th>1</th>\n",
       "      <td>-0.986999</td>\n",
       "      <td>-0.128844</td>\n",
       "      <td>-1.400860</td>\n",
       "      <td>-1.063487</td>\n",
       "      <td>1.674748</td>\n",
       "      <td>-0.571542</td>\n",
       "      <td>-0.921309</td>\n",
       "      <td>1.754458</td>\n",
       "      <td>-1.162177</td>\n",
       "      <td>-0.759135</td>\n",
       "      <td>...</td>\n",
       "      <td>-0.048602</td>\n",
       "      <td>-0.534804</td>\n",
       "      <td>-0.292754</td>\n",
       "      <td>-0.880514</td>\n",
       "      <td>-0.576994</td>\n",
       "      <td>0.896783</td>\n",
       "      <td>-0.880529</td>\n",
       "      <td>-0.040643</td>\n",
       "      <td>-0.361873</td>\n",
       "      <td>0</td>\n",
       "    </tr>\n",
       "    <tr>\n",
       "      <th>2</th>\n",
       "      <td>2.953566</td>\n",
       "      <td>1.254202</td>\n",
       "      <td>0.382819</td>\n",
       "      <td>1.474513</td>\n",
       "      <td>-1.363628</td>\n",
       "      <td>1.698723</td>\n",
       "      <td>0.022482</td>\n",
       "      <td>-0.767144</td>\n",
       "      <td>2.848059</td>\n",
       "      <td>1.150437</td>\n",
       "      <td>...</td>\n",
       "      <td>-0.048602</td>\n",
       "      <td>0.820087</td>\n",
       "      <td>-0.292754</td>\n",
       "      <td>0.137270</td>\n",
       "      <td>-0.423051</td>\n",
       "      <td>-0.757005</td>\n",
       "      <td>0.137252</td>\n",
       "      <td>-0.370510</td>\n",
       "      <td>0.232084</td>\n",
       "      <td>0</td>\n",
       "    </tr>\n",
       "    <tr>\n",
       "      <th>3</th>\n",
       "      <td>-0.986999</td>\n",
       "      <td>-0.820368</td>\n",
       "      <td>-1.146049</td>\n",
       "      <td>-0.887995</td>\n",
       "      <td>0.155560</td>\n",
       "      <td>-0.571542</td>\n",
       "      <td>-0.921309</td>\n",
       "      <td>-0.243792</td>\n",
       "      <td>-0.159618</td>\n",
       "      <td>-0.520438</td>\n",
       "      <td>...</td>\n",
       "      <td>-0.048602</td>\n",
       "      <td>0.221144</td>\n",
       "      <td>-0.292754</td>\n",
       "      <td>-0.491025</td>\n",
       "      <td>-0.269107</td>\n",
       "      <td>-0.638877</td>\n",
       "      <td>-0.491041</td>\n",
       "      <td>0.520113</td>\n",
       "      <td>-0.266840</td>\n",
       "      <td>1</td>\n",
       "    </tr>\n",
       "    <tr>\n",
       "      <th>4</th>\n",
       "      <td>2.165453</td>\n",
       "      <td>1.254202</td>\n",
       "      <td>0.892442</td>\n",
       "      <td>0.747837</td>\n",
       "      <td>0.155560</td>\n",
       "      <td>1.698723</td>\n",
       "      <td>-0.606712</td>\n",
       "      <td>-0.814721</td>\n",
       "      <td>0.842941</td>\n",
       "      <td>0.673044</td>\n",
       "      <td>...</td>\n",
       "      <td>-0.048602</td>\n",
       "      <td>0.523899</td>\n",
       "      <td>-0.292754</td>\n",
       "      <td>0.141435</td>\n",
       "      <td>-0.423051</td>\n",
       "      <td>-0.284494</td>\n",
       "      <td>0.141416</td>\n",
       "      <td>-0.726759</td>\n",
       "      <td>0.125172</td>\n",
       "      <td>0</td>\n",
       "    </tr>\n",
       "    <tr>\n",
       "      <th>...</th>\n",
       "      <td>...</td>\n",
       "      <td>...</td>\n",
       "      <td>...</td>\n",
       "      <td>...</td>\n",
       "      <td>...</td>\n",
       "      <td>...</td>\n",
       "      <td>...</td>\n",
       "      <td>...</td>\n",
       "      <td>...</td>\n",
       "      <td>...</td>\n",
       "      <td>...</td>\n",
       "      <td>...</td>\n",
       "      <td>...</td>\n",
       "      <td>...</td>\n",
       "      <td>...</td>\n",
       "      <td>...</td>\n",
       "      <td>...</td>\n",
       "      <td>...</td>\n",
       "      <td>...</td>\n",
       "      <td>...</td>\n",
       "      <td>...</td>\n",
       "    </tr>\n",
       "    <tr>\n",
       "      <th>36588</th>\n",
       "      <td>-0.592942</td>\n",
       "      <td>-0.820368</td>\n",
       "      <td>0.892442</td>\n",
       "      <td>-0.273322</td>\n",
       "      <td>-1.363628</td>\n",
       "      <td>0.185213</td>\n",
       "      <td>0.337078</td>\n",
       "      <td>-0.101060</td>\n",
       "      <td>-0.159618</td>\n",
       "      <td>-0.520438</td>\n",
       "      <td>...</td>\n",
       "      <td>-0.048602</td>\n",
       "      <td>1.274598</td>\n",
       "      <td>-0.292754</td>\n",
       "      <td>0.079190</td>\n",
       "      <td>0.192723</td>\n",
       "      <td>-0.757005</td>\n",
       "      <td>0.079171</td>\n",
       "      <td>2.400318</td>\n",
       "      <td>-0.302477</td>\n",
       "      <td>0</td>\n",
       "    </tr>\n",
       "    <tr>\n",
       "      <th>36589</th>\n",
       "      <td>-0.198886</td>\n",
       "      <td>-0.128844</td>\n",
       "      <td>-0.636426</td>\n",
       "      <td>-0.168394</td>\n",
       "      <td>0.155560</td>\n",
       "      <td>0.941968</td>\n",
       "      <td>-0.292115</td>\n",
       "      <td>-0.671989</td>\n",
       "      <td>0.842941</td>\n",
       "      <td>-0.043045</td>\n",
       "      <td>...</td>\n",
       "      <td>-0.048602</td>\n",
       "      <td>-0.019556</td>\n",
       "      <td>-0.292754</td>\n",
       "      <td>0.015718</td>\n",
       "      <td>0.038779</td>\n",
       "      <td>-0.757005</td>\n",
       "      <td>0.015700</td>\n",
       "      <td>0.025323</td>\n",
       "      <td>-0.053015</td>\n",
       "      <td>0</td>\n",
       "    </tr>\n",
       "    <tr>\n",
       "      <th>36590</th>\n",
       "      <td>-0.198886</td>\n",
       "      <td>-0.128844</td>\n",
       "      <td>0.637631</td>\n",
       "      <td>0.485131</td>\n",
       "      <td>-1.363628</td>\n",
       "      <td>-0.571542</td>\n",
       "      <td>2.853852</td>\n",
       "      <td>0.517446</td>\n",
       "      <td>-1.162177</td>\n",
       "      <td>-0.759135</td>\n",
       "      <td>...</td>\n",
       "      <td>-0.048602</td>\n",
       "      <td>1.131882</td>\n",
       "      <td>2.745463</td>\n",
       "      <td>-0.244317</td>\n",
       "      <td>0.346666</td>\n",
       "      <td>-0.757005</td>\n",
       "      <td>-0.244147</td>\n",
       "      <td>4.973230</td>\n",
       "      <td>-0.361873</td>\n",
       "      <td>1</td>\n",
       "    </tr>\n",
       "    <tr>\n",
       "      <th>36591</th>\n",
       "      <td>0.983284</td>\n",
       "      <td>-0.128844</td>\n",
       "      <td>1.656877</td>\n",
       "      <td>1.089722</td>\n",
       "      <td>-1.363628</td>\n",
       "      <td>2.455477</td>\n",
       "      <td>0.651675</td>\n",
       "      <td>-0.814721</td>\n",
       "      <td>0.842941</td>\n",
       "      <td>1.150437</td>\n",
       "      <td>...</td>\n",
       "      <td>-0.048602</td>\n",
       "      <td>1.232081</td>\n",
       "      <td>5.783680</td>\n",
       "      <td>0.352807</td>\n",
       "      <td>-0.269107</td>\n",
       "      <td>-0.757005</td>\n",
       "      <td>0.353162</td>\n",
       "      <td>-0.568426</td>\n",
       "      <td>0.160809</td>\n",
       "      <td>1</td>\n",
       "    </tr>\n",
       "    <tr>\n",
       "      <th>36592</th>\n",
       "      <td>0.195171</td>\n",
       "      <td>-0.128844</td>\n",
       "      <td>1.656877</td>\n",
       "      <td>0.672704</td>\n",
       "      <td>-1.363628</td>\n",
       "      <td>0.185213</td>\n",
       "      <td>0.022482</td>\n",
       "      <td>-0.814721</td>\n",
       "      <td>-0.159618</td>\n",
       "      <td>0.434348</td>\n",
       "      <td>...</td>\n",
       "      <td>-0.048602</td>\n",
       "      <td>1.412483</td>\n",
       "      <td>2.745463</td>\n",
       "      <td>0.224382</td>\n",
       "      <td>0.808496</td>\n",
       "      <td>-0.757005</td>\n",
       "      <td>0.224550</td>\n",
       "      <td>-0.568426</td>\n",
       "      <td>-0.053015</td>\n",
       "      <td>1</td>\n",
       "    </tr>\n",
       "  </tbody>\n",
       "</table>\n",
       "<p>36593 rows × 27 columns</p>\n",
       "</div>"
      ],
      "text/plain": [
       "          DBNOs   assists    boosts  damageDealt  deathType  headshotKills  \\\n",
       "0     -0.592942  1.254202  1.402065    -0.281955   0.155560      -0.571542   \n",
       "1     -0.986999 -0.128844 -1.400860    -1.063487   1.674748      -0.571542   \n",
       "2      2.953566  1.254202  0.382819     1.474513  -1.363628       1.698723   \n",
       "3     -0.986999 -0.820368 -1.146049    -0.887995   0.155560      -0.571542   \n",
       "4      2.165453  1.254202  0.892442     0.747837   0.155560       1.698723   \n",
       "...         ...       ...       ...          ...        ...            ...   \n",
       "36588 -0.592942 -0.820368  0.892442    -0.273322  -1.363628       0.185213   \n",
       "36589 -0.198886 -0.128844 -0.636426    -0.168394   0.155560       0.941968   \n",
       "36590 -0.198886 -0.128844  0.637631     0.485131  -1.363628      -0.571542   \n",
       "36591  0.983284 -0.128844  1.656877     1.089722  -1.363628       2.455477   \n",
       "36592  0.195171 -0.128844  1.656877     0.672704  -1.363628       0.185213   \n",
       "\n",
       "          heals  killPlace  killStreaks     kills  ...  teamKills  \\\n",
       "0      0.022482  -0.386525    -0.159618 -0.281742  ...  -0.048602   \n",
       "1     -0.921309   1.754458    -1.162177 -0.759135  ...  -0.048602   \n",
       "2      0.022482  -0.767144     2.848059  1.150437  ...  -0.048602   \n",
       "3     -0.921309  -0.243792    -0.159618 -0.520438  ...  -0.048602   \n",
       "4     -0.606712  -0.814721     0.842941  0.673044  ...  -0.048602   \n",
       "...         ...        ...          ...       ...  ...        ...   \n",
       "36588  0.337078  -0.101060    -0.159618 -0.520438  ...  -0.048602   \n",
       "36589 -0.292115  -0.671989     0.842941 -0.043045  ...  -0.048602   \n",
       "36590  2.853852   0.517446    -1.162177 -0.759135  ...  -0.048602   \n",
       "36591  0.651675  -0.814721     0.842941  1.150437  ...  -0.048602   \n",
       "36592  0.022482  -0.814721    -0.159618  0.434348  ...  -0.048602   \n",
       "\n",
       "       timeSurvived  vehicleDestroys  walkDistance  weaponsAcquired  winPlace  \\\n",
       "0          0.591596        -0.292754      0.618270         0.346666 -0.402621   \n",
       "1         -0.534804        -0.292754     -0.880514        -0.576994  0.896783   \n",
       "2          0.820087        -0.292754      0.137270        -0.423051 -0.757005   \n",
       "3          0.221144        -0.292754     -0.491025        -0.269107 -0.638877   \n",
       "4          0.523899        -0.292754      0.141435        -0.423051 -0.284494   \n",
       "...             ...              ...           ...              ...       ...   \n",
       "36588      1.274598        -0.292754      0.079190         0.192723 -0.757005   \n",
       "36589     -0.019556        -0.292754      0.015718         0.038779 -0.757005   \n",
       "36590      1.131882         2.745463     -0.244317         0.346666 -0.757005   \n",
       "36591      1.232081         5.783680      0.352807        -0.269107 -0.757005   \n",
       "36592      1.412483         2.745463      0.224382         0.808496 -0.757005   \n",
       "\n",
       "       movement_w_mean  kill_over_winPlae  kill_over_timeSurvived  GMM_cluster  \n",
       "0             0.618249          -0.271552               -0.207444            0  \n",
       "1            -0.880529          -0.040643               -0.361873            0  \n",
       "2             0.137252          -0.370510                0.232084            0  \n",
       "3            -0.491041           0.520113               -0.266840            1  \n",
       "4             0.141416          -0.726759                0.125172            0  \n",
       "...                ...                ...                     ...          ...  \n",
       "36588         0.079171           2.400318               -0.302477            0  \n",
       "36589         0.015700           0.025323               -0.053015            0  \n",
       "36590        -0.244147           4.973230               -0.361873            1  \n",
       "36591         0.353162          -0.568426                0.160809            1  \n",
       "36592         0.224550          -0.568426               -0.053015            1  \n",
       "\n",
       "[36593 rows x 27 columns]"
      ]
     },
     "execution_count": 30,
     "metadata": {},
     "output_type": "execute_result"
    }
   ],
   "source": [
    "train_scaled_df"
   ]
  },
  {
   "cell_type": "markdown",
   "id": "f7b642ef",
   "metadata": {},
   "source": [
    "- 평가하기"
   ]
  },
  {
   "cell_type": "markdown",
   "id": "fafec2f8",
   "metadata": {},
   "source": [
    "-> 실루엣 분석을 동일하게 사용했습니다."
   ]
  },
  {
   "cell_type": "code",
   "execution_count": 18,
   "id": "406b2e7f",
   "metadata": {},
   "outputs": [],
   "source": [
    "from sklearn.metrics import silhouette_samples, silhouette_score "
   ]
  },
  {
   "cell_type": "code",
   "execution_count": 36,
   "id": "c8f4ab18",
   "metadata": {},
   "outputs": [
    {
     "name": "stdout",
     "output_type": "stream",
     "text": [
      "silhouette_samples() return 값의 shape (36593,)\n"
     ]
    }
   ],
   "source": [
    "# 모든 개별 데이터 실루엣 계수 값 구하기\n",
    "score_samples = silhouette_samples(train_scaled, sta_train_scaled_df[\"GMM_cluster\"])\n",
    "print(\"silhouette_samples() return 값의 shape\", score_samples.shape)"
   ]
  },
  {
   "cell_type": "code",
   "execution_count": 37,
   "id": "d6df2a21",
   "metadata": {},
   "outputs": [],
   "source": [
    "# train_scaled_df에 실루엣 계수 컬럼 추가\n",
    "sta_train_scaled_df[\"silhouette_coeff\"] = score_samples"
   ]
  },
  {
   "cell_type": "code",
   "execution_count": 38,
   "id": "5dc8face",
   "metadata": {},
   "outputs": [
    {
     "ename": "KeyError",
     "evalue": "'GMM_cluster'",
     "output_type": "error",
     "traceback": [
      "\u001b[1;31m---------------------------------------------------------------------------\u001b[0m",
      "\u001b[1;31mKeyError\u001b[0m                                  Traceback (most recent call last)",
      "\u001b[1;32m~\\anaconda3\\lib\\site-packages\\pandas\\core\\indexes\\base.py\u001b[0m in \u001b[0;36mget_loc\u001b[1;34m(self, key, method, tolerance)\u001b[0m\n\u001b[0;32m   3079\u001b[0m             \u001b[1;32mtry\u001b[0m\u001b[1;33m:\u001b[0m\u001b[1;33m\u001b[0m\u001b[1;33m\u001b[0m\u001b[0m\n\u001b[1;32m-> 3080\u001b[1;33m                 \u001b[1;32mreturn\u001b[0m \u001b[0mself\u001b[0m\u001b[1;33m.\u001b[0m\u001b[0m_engine\u001b[0m\u001b[1;33m.\u001b[0m\u001b[0mget_loc\u001b[0m\u001b[1;33m(\u001b[0m\u001b[0mcasted_key\u001b[0m\u001b[1;33m)\u001b[0m\u001b[1;33m\u001b[0m\u001b[1;33m\u001b[0m\u001b[0m\n\u001b[0m\u001b[0;32m   3081\u001b[0m             \u001b[1;32mexcept\u001b[0m \u001b[0mKeyError\u001b[0m \u001b[1;32mas\u001b[0m \u001b[0merr\u001b[0m\u001b[1;33m:\u001b[0m\u001b[1;33m\u001b[0m\u001b[1;33m\u001b[0m\u001b[0m\n",
      "\u001b[1;32mpandas\\_libs\\index.pyx\u001b[0m in \u001b[0;36mpandas._libs.index.IndexEngine.get_loc\u001b[1;34m()\u001b[0m\n",
      "\u001b[1;32mpandas\\_libs\\index.pyx\u001b[0m in \u001b[0;36mpandas._libs.index.IndexEngine.get_loc\u001b[1;34m()\u001b[0m\n",
      "\u001b[1;32mpandas\\_libs\\hashtable_class_helper.pxi\u001b[0m in \u001b[0;36mpandas._libs.hashtable.PyObjectHashTable.get_item\u001b[1;34m()\u001b[0m\n",
      "\u001b[1;32mpandas\\_libs\\hashtable_class_helper.pxi\u001b[0m in \u001b[0;36mpandas._libs.hashtable.PyObjectHashTable.get_item\u001b[1;34m()\u001b[0m\n",
      "\u001b[1;31mKeyError\u001b[0m: 'GMM_cluster'",
      "\nThe above exception was the direct cause of the following exception:\n",
      "\u001b[1;31mKeyError\u001b[0m                                  Traceback (most recent call last)",
      "\u001b[1;32m<ipython-input-38-f9a6a7dc18fe>\u001b[0m in \u001b[0;36m<module>\u001b[1;34m\u001b[0m\n\u001b[0;32m      1\u001b[0m \u001b[1;31m# 모든 데이터의 평균 실루엣 계수 값 구하기\u001b[0m\u001b[1;33m\u001b[0m\u001b[1;33m\u001b[0m\u001b[1;33m\u001b[0m\u001b[0m\n\u001b[1;32m----> 2\u001b[1;33m \u001b[0maverage_score\u001b[0m \u001b[1;33m=\u001b[0m \u001b[0msilhouette_score\u001b[0m\u001b[1;33m(\u001b[0m\u001b[0mtrain_scaled\u001b[0m\u001b[1;33m,\u001b[0m \u001b[0mtrain_scaled_df\u001b[0m\u001b[1;33m[\u001b[0m\u001b[1;34m\"GMM_cluster\"\u001b[0m\u001b[1;33m]\u001b[0m\u001b[1;33m)\u001b[0m\u001b[1;33m\u001b[0m\u001b[1;33m\u001b[0m\u001b[0m\n\u001b[0m\u001b[0;32m      3\u001b[0m \u001b[0mprint\u001b[0m\u001b[1;33m(\u001b[0m\u001b[1;34m\"개인 플레이 성향 Silhouette Analysis Score: {0:3f}\"\u001b[0m\u001b[1;33m.\u001b[0m\u001b[0mformat\u001b[0m\u001b[1;33m(\u001b[0m\u001b[0maverage_score\u001b[0m\u001b[1;33m)\u001b[0m\u001b[1;33m)\u001b[0m\u001b[1;33m\u001b[0m\u001b[1;33m\u001b[0m\u001b[0m\n",
      "\u001b[1;32m~\\anaconda3\\lib\\site-packages\\pandas\\core\\frame.py\u001b[0m in \u001b[0;36m__getitem__\u001b[1;34m(self, key)\u001b[0m\n\u001b[0;32m   3022\u001b[0m             \u001b[1;32mif\u001b[0m \u001b[0mself\u001b[0m\u001b[1;33m.\u001b[0m\u001b[0mcolumns\u001b[0m\u001b[1;33m.\u001b[0m\u001b[0mnlevels\u001b[0m \u001b[1;33m>\u001b[0m \u001b[1;36m1\u001b[0m\u001b[1;33m:\u001b[0m\u001b[1;33m\u001b[0m\u001b[1;33m\u001b[0m\u001b[0m\n\u001b[0;32m   3023\u001b[0m                 \u001b[1;32mreturn\u001b[0m \u001b[0mself\u001b[0m\u001b[1;33m.\u001b[0m\u001b[0m_getitem_multilevel\u001b[0m\u001b[1;33m(\u001b[0m\u001b[0mkey\u001b[0m\u001b[1;33m)\u001b[0m\u001b[1;33m\u001b[0m\u001b[1;33m\u001b[0m\u001b[0m\n\u001b[1;32m-> 3024\u001b[1;33m             \u001b[0mindexer\u001b[0m \u001b[1;33m=\u001b[0m \u001b[0mself\u001b[0m\u001b[1;33m.\u001b[0m\u001b[0mcolumns\u001b[0m\u001b[1;33m.\u001b[0m\u001b[0mget_loc\u001b[0m\u001b[1;33m(\u001b[0m\u001b[0mkey\u001b[0m\u001b[1;33m)\u001b[0m\u001b[1;33m\u001b[0m\u001b[1;33m\u001b[0m\u001b[0m\n\u001b[0m\u001b[0;32m   3025\u001b[0m             \u001b[1;32mif\u001b[0m \u001b[0mis_integer\u001b[0m\u001b[1;33m(\u001b[0m\u001b[0mindexer\u001b[0m\u001b[1;33m)\u001b[0m\u001b[1;33m:\u001b[0m\u001b[1;33m\u001b[0m\u001b[1;33m\u001b[0m\u001b[0m\n\u001b[0;32m   3026\u001b[0m                 \u001b[0mindexer\u001b[0m \u001b[1;33m=\u001b[0m \u001b[1;33m[\u001b[0m\u001b[0mindexer\u001b[0m\u001b[1;33m]\u001b[0m\u001b[1;33m\u001b[0m\u001b[1;33m\u001b[0m\u001b[0m\n",
      "\u001b[1;32m~\\anaconda3\\lib\\site-packages\\pandas\\core\\indexes\\base.py\u001b[0m in \u001b[0;36mget_loc\u001b[1;34m(self, key, method, tolerance)\u001b[0m\n\u001b[0;32m   3080\u001b[0m                 \u001b[1;32mreturn\u001b[0m \u001b[0mself\u001b[0m\u001b[1;33m.\u001b[0m\u001b[0m_engine\u001b[0m\u001b[1;33m.\u001b[0m\u001b[0mget_loc\u001b[0m\u001b[1;33m(\u001b[0m\u001b[0mcasted_key\u001b[0m\u001b[1;33m)\u001b[0m\u001b[1;33m\u001b[0m\u001b[1;33m\u001b[0m\u001b[0m\n\u001b[0;32m   3081\u001b[0m             \u001b[1;32mexcept\u001b[0m \u001b[0mKeyError\u001b[0m \u001b[1;32mas\u001b[0m \u001b[0merr\u001b[0m\u001b[1;33m:\u001b[0m\u001b[1;33m\u001b[0m\u001b[1;33m\u001b[0m\u001b[0m\n\u001b[1;32m-> 3082\u001b[1;33m                 \u001b[1;32mraise\u001b[0m \u001b[0mKeyError\u001b[0m\u001b[1;33m(\u001b[0m\u001b[0mkey\u001b[0m\u001b[1;33m)\u001b[0m \u001b[1;32mfrom\u001b[0m \u001b[0merr\u001b[0m\u001b[1;33m\u001b[0m\u001b[1;33m\u001b[0m\u001b[0m\n\u001b[0m\u001b[0;32m   3083\u001b[0m \u001b[1;33m\u001b[0m\u001b[0m\n\u001b[0;32m   3084\u001b[0m         \u001b[1;32mif\u001b[0m \u001b[0mtolerance\u001b[0m \u001b[1;32mis\u001b[0m \u001b[1;32mnot\u001b[0m \u001b[1;32mNone\u001b[0m\u001b[1;33m:\u001b[0m\u001b[1;33m\u001b[0m\u001b[1;33m\u001b[0m\u001b[0m\n",
      "\u001b[1;31mKeyError\u001b[0m: 'GMM_cluster'"
     ]
    }
   ],
   "source": [
    "# 모든 데이터의 평균 실루엣 계수 값 구하기\n",
    "average_score = silhouette_score(train_scaled, train_scaled_df[\"GMM_cluster\"])\n",
    "print(\"개인 플레이 성향 Silhouette Analysis Score: {0:3f}\".format(average_score))"
   ]
  },
  {
   "cell_type": "code",
   "execution_count": null,
   "id": "abd3c784",
   "metadata": {},
   "outputs": [],
   "source": []
  },
  {
   "cell_type": "markdown",
   "id": "f3196222",
   "metadata": {},
   "source": [
    "### PCA 차원축소"
   ]
  },
  {
   "cell_type": "code",
   "execution_count": 19,
   "id": "8ef35749",
   "metadata": {},
   "outputs": [
    {
     "data": {
      "text/plain": [
       "PCA(n_components=13)"
      ]
     },
     "execution_count": 19,
     "metadata": {},
     "output_type": "execute_result"
    }
   ],
   "source": [
    "from sklearn.decomposition import PCA\n",
    "\n",
    "n_columns = 13\n",
    "pca = PCA(n_components = 13)\n",
    "pca.fit(train)"
   ]
  },
  {
   "cell_type": "code",
   "execution_count": 20,
   "id": "9de4bfde",
   "metadata": {},
   "outputs": [
    {
     "data": {
      "text/plain": [
       "[<matplotlib.lines.Line2D at 0x27fdd41be50>]"
      ]
     },
     "execution_count": 20,
     "metadata": {},
     "output_type": "execute_result"
    },
    {
     "data": {
      "image/png": "[encoded data removed]",
      "text/plain": [
       "<Figure size 432x288 with 1 Axes>"
      ]
     },
     "metadata": {
      "needs_background": "light"
     },
     "output_type": "display_data"
    }
   ],
   "source": [
    "plt.plot(pca.explained_variance_ratio_)"
   ]
  },
  {
   "cell_type": "code",
   "execution_count": 21,
   "id": "42b2e83f",
   "metadata": {},
   "outputs": [
    {
     "data": {
      "text/plain": [
       "0.9999999999999991"
      ]
     },
     "execution_count": 21,
     "metadata": {},
     "output_type": "execute_result"
    }
   ],
   "source": [
    "n_columns = 2\n",
    "pca = PCA(n_components = 2)\n",
    "pca.fit(train)\n",
    "\n",
    "np.sum(pca.explained_variance_ratio_)"
   ]
  },
  {
   "cell_type": "code",
   "execution_count": 26,
   "id": "cba229f0",
   "metadata": {},
   "outputs": [],
   "source": [
    "train_pca = pca.transform(train)\n",
    "\n",
    "mMs = MinMaxScaler()\n",
    "######################################################################################\n",
    "train_pca_norm = mMs.fit_transform(train_pca)\n",
    "train_pca_df = pd.DataFrame(data = train_pca_norm, columns = ['pc1', 'pc2'])"
   ]
  },
  {
   "cell_type": "code",
   "execution_count": 27,
   "id": "a3da4b19",
   "metadata": {},
   "outputs": [],
   "source": [
    "# 학습\n",
    "# 세팅과 피팅\n",
    "gmm = GaussianMixture(n_components = 4, random_state = 1234). fit(train_pca_df)\n",
    "# 아웃풋\n",
    "gmm_cluster_labels = gmm.predict(train_pca_df)\n",
    "\n",
    "# 쌓기\n",
    "train_scaled_df['GMM_cluster'] = gmm_cluster_labels"
   ]
  },
  {
   "cell_type": "code",
   "execution_count": null,
   "id": "76e234c2",
   "metadata": {},
   "outputs": [],
   "source": []
  },
  {
   "cell_type": "markdown",
   "id": "15f0f645",
   "metadata": {},
   "source": [
    "### tsne 차원축소"
   ]
  },
  {
   "cell_type": "code",
   "execution_count": null,
   "id": "157ba4ff",
   "metadata": {},
   "outputs": [],
   "source": []
  },
  {
   "cell_type": "code",
   "execution_count": null,
   "id": "ec809c8b",
   "metadata": {},
   "outputs": [],
   "source": []
  },
  {
   "cell_type": "code",
   "execution_count": null,
   "id": "17fcdc18",
   "metadata": {},
   "outputs": [],
   "source": []
  },
  {
   "cell_type": "code",
   "execution_count": null,
   "id": "bdea6af1",
   "metadata": {},
   "outputs": [],
   "source": []
  },
  {
   "cell_type": "code",
   "execution_count": null,
   "id": "813ce4e9",
   "metadata": {},
   "outputs": [],
   "source": []
  },
  {
   "cell_type": "markdown",
   "id": "af2cab3a",
   "metadata": {},
   "source": [
    "- Silhouette"
   ]
  },
  {
   "cell_type": "code",
   "execution_count": 29,
   "id": "0904336e",
   "metadata": {},
   "outputs": [
    {
     "name": "stdout",
     "output_type": "stream",
     "text": [
      "silhouette_samples() return 값의 shape (36593,)\n"
     ]
    }
   ],
   "source": [
    "# 모든 개별 데이터 실루엣 계수 값 구하기\n",
    "score_samples = silhouette_samples(train_pca_norm, train_scaled_df[\"GMM_cluster\"])\n",
    "print(\"silhouette_samples() return 값의 shape\", score_samples.shape)"
   ]
  },
  {
   "cell_type": "code",
   "execution_count": 30,
   "id": "c1618b08",
   "metadata": {},
   "outputs": [],
   "source": [
    "# train_scaled_df에 실루엣 계수 컬럼 추가\n",
    "train_scaled_df[\"silhouette_coeff\"] = score_samples"
   ]
  },
  {
   "cell_type": "code",
   "execution_count": 31,
   "id": "9933d478",
   "metadata": {
    "scrolled": true
   },
   "outputs": [
    {
     "name": "stdout",
     "output_type": "stream",
     "text": [
      "개인 플레이 성향 Silhouette Analysis Score: 0.986263\n"
     ]
    }
   ],
   "source": [
    "# 모든 데이터의 평균 실루엣 계수 값 구하기\n",
    "average_score = silhouette_score(train_pca_norm, train_scaled_df[\"GMM_cluster\"])\n",
    "print(\"개인 플레이 성향 Silhouette Analysis Score: {0:3f}\".format(average_score))"
   ]
  },
  {
   "cell_type": "code",
   "execution_count": null,
   "id": "be9e5225",
   "metadata": {},
   "outputs": [],
   "source": []
  },
  {
   "cell_type": "code",
   "execution_count": null,
   "id": "f62134b7",
   "metadata": {},
   "outputs": [],
   "source": []
  },
  {
   "cell_type": "code",
   "execution_count": null,
   "id": "4d58838c",
   "metadata": {},
   "outputs": [],
   "source": []
  }
 ],
 "metadata": {
  "kernelspec": {
   "display_name": "Python 3",
   "language": "python",
   "name": "python3"
  },
  "language_info": {
   "codemirror_mode": {
    "name": "ipython",
    "version": 3
   },
   "file_extension": ".py",
   "mimetype": "text/x-python",
   "name": "python",
   "nbconvert_exporter": "python",
   "pygments_lexer": "ipython3",
   "version": "3.8.8"
  }
 },
 "nbformat": 4,
 "nbformat_minor": 5
}
