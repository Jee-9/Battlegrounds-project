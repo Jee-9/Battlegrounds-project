{
 "cells": [
  {
   "cell_type": "code",
   "execution_count": 19,
   "id": "32e79f84",
   "metadata": {},
   "outputs": [],
   "source": [
    "import pandas as pd\n",
    "import numpy as np\n",
    "import matplotlib.pyplot as plt\n",
    "%matplotlib inline\n",
    "import seaborn as sns"
   ]
  },
  {
   "cell_type": "code",
   "execution_count": 2,
   "id": "48f51426",
   "metadata": {},
   "outputs": [
    {
     "data": {
      "text/html": [
       "<div>\n",
       "<style scoped>\n",
       "    .dataframe tbody tr th:only-of-type {\n",
       "        vertical-align: middle;\n",
       "    }\n",
       "\n",
       "    .dataframe tbody tr th {\n",
       "        vertical-align: top;\n",
       "    }\n",
       "\n",
       "    .dataframe thead th {\n",
       "        text-align: right;\n",
       "    }\n",
       "</style>\n",
       "<table border=\"1\" class=\"dataframe\">\n",
       "  <thead>\n",
       "    <tr style=\"text-align: right;\">\n",
       "      <th></th>\n",
       "      <th>DBNOs</th>\n",
       "      <th>assists</th>\n",
       "      <th>boosts</th>\n",
       "      <th>damageDealt</th>\n",
       "      <th>deathType</th>\n",
       "      <th>headshotKills</th>\n",
       "      <th>heals</th>\n",
       "      <th>killPlace</th>\n",
       "      <th>killStreaks</th>\n",
       "      <th>kills</th>\n",
       "      <th>...</th>\n",
       "      <th>revives</th>\n",
       "      <th>rideDistance</th>\n",
       "      <th>roadKills</th>\n",
       "      <th>swimDistance</th>\n",
       "      <th>teamKills</th>\n",
       "      <th>timeSurvived</th>\n",
       "      <th>vehicleDestroys</th>\n",
       "      <th>walkDistance</th>\n",
       "      <th>weaponsAcquired</th>\n",
       "      <th>winPlace</th>\n",
       "    </tr>\n",
       "  </thead>\n",
       "  <tbody>\n",
       "    <tr>\n",
       "      <th>0</th>\n",
       "      <td>1</td>\n",
       "      <td>3</td>\n",
       "      <td>11</td>\n",
       "      <td>395.433780</td>\n",
       "      <td>byplayer</td>\n",
       "      <td>0</td>\n",
       "      <td>3</td>\n",
       "      <td>10</td>\n",
       "      <td>1</td>\n",
       "      <td>2</td>\n",
       "      <td>...</td>\n",
       "      <td>0</td>\n",
       "      <td>2403.4287</td>\n",
       "      <td>0</td>\n",
       "      <td>0.0</td>\n",
       "      <td>0</td>\n",
       "      <td>1492.000</td>\n",
       "      <td>0</td>\n",
       "      <td>2498.04880</td>\n",
       "      <td>8</td>\n",
       "      <td>4</td>\n",
       "    </tr>\n",
       "    <tr>\n",
       "      <th>1</th>\n",
       "      <td>0</td>\n",
       "      <td>1</td>\n",
       "      <td>0</td>\n",
       "      <td>0.000000</td>\n",
       "      <td>byzone</td>\n",
       "      <td>0</td>\n",
       "      <td>0</td>\n",
       "      <td>55</td>\n",
       "      <td>0</td>\n",
       "      <td>0</td>\n",
       "      <td>...</td>\n",
       "      <td>0</td>\n",
       "      <td>0.0000</td>\n",
       "      <td>0</td>\n",
       "      <td>0.0</td>\n",
       "      <td>0</td>\n",
       "      <td>893.000</td>\n",
       "      <td>0</td>\n",
       "      <td>239.93445</td>\n",
       "      <td>2</td>\n",
       "      <td>15</td>\n",
       "    </tr>\n",
       "    <tr>\n",
       "      <th>2</th>\n",
       "      <td>10</td>\n",
       "      <td>3</td>\n",
       "      <td>7</td>\n",
       "      <td>1284.158400</td>\n",
       "      <td>alive</td>\n",
       "      <td>3</td>\n",
       "      <td>3</td>\n",
       "      <td>2</td>\n",
       "      <td>4</td>\n",
       "      <td>8</td>\n",
       "      <td>...</td>\n",
       "      <td>0</td>\n",
       "      <td>4998.7627</td>\n",
       "      <td>0</td>\n",
       "      <td>0.0</td>\n",
       "      <td>0</td>\n",
       "      <td>1613.508</td>\n",
       "      <td>0</td>\n",
       "      <td>1773.35990</td>\n",
       "      <td>3</td>\n",
       "      <td>1</td>\n",
       "    </tr>\n",
       "    <tr>\n",
       "      <th>3</th>\n",
       "      <td>0</td>\n",
       "      <td>0</td>\n",
       "      <td>1</td>\n",
       "      <td>88.794075</td>\n",
       "      <td>byplayer</td>\n",
       "      <td>0</td>\n",
       "      <td>0</td>\n",
       "      <td>13</td>\n",
       "      <td>1</td>\n",
       "      <td>1</td>\n",
       "      <td>...</td>\n",
       "      <td>0</td>\n",
       "      <td>4143.0120</td>\n",
       "      <td>1</td>\n",
       "      <td>0.0</td>\n",
       "      <td>0</td>\n",
       "      <td>1295.000</td>\n",
       "      <td>0</td>\n",
       "      <td>826.75073</td>\n",
       "      <td>4</td>\n",
       "      <td>2</td>\n",
       "    </tr>\n",
       "    <tr>\n",
       "      <th>4</th>\n",
       "      <td>8</td>\n",
       "      <td>3</td>\n",
       "      <td>9</td>\n",
       "      <td>916.480100</td>\n",
       "      <td>byplayer</td>\n",
       "      <td>3</td>\n",
       "      <td>1</td>\n",
       "      <td>1</td>\n",
       "      <td>2</td>\n",
       "      <td>6</td>\n",
       "      <td>...</td>\n",
       "      <td>2</td>\n",
       "      <td>5006.8066</td>\n",
       "      <td>0</td>\n",
       "      <td>0.0</td>\n",
       "      <td>0</td>\n",
       "      <td>1456.000</td>\n",
       "      <td>0</td>\n",
       "      <td>1779.63440</td>\n",
       "      <td>3</td>\n",
       "      <td>5</td>\n",
       "    </tr>\n",
       "  </tbody>\n",
       "</table>\n",
       "<p>5 rows × 25 columns</p>\n",
       "</div>"
      ],
      "text/plain": [
       "   DBNOs  assists  boosts  damageDealt deathType  headshotKills  heals  \\\n",
       "0      1        3      11   395.433780  byplayer              0      3   \n",
       "1      0        1       0     0.000000    byzone              0      0   \n",
       "2     10        3       7  1284.158400     alive              3      3   \n",
       "3      0        0       1    88.794075  byplayer              0      0   \n",
       "4      8        3       9   916.480100  byplayer              3      1   \n",
       "\n",
       "   killPlace  killStreaks  kills  ...  revives rideDistance roadKills  \\\n",
       "0         10            1      2  ...        0    2403.4287         0   \n",
       "1         55            0      0  ...        0       0.0000         0   \n",
       "2          2            4      8  ...        0    4998.7627         0   \n",
       "3         13            1      1  ...        0    4143.0120         1   \n",
       "4          1            2      6  ...        2    5006.8066         0   \n",
       "\n",
       "  swimDistance teamKills  timeSurvived  vehicleDestroys  walkDistance  \\\n",
       "0          0.0         0      1492.000                0    2498.04880   \n",
       "1          0.0         0       893.000                0     239.93445   \n",
       "2          0.0         0      1613.508                0    1773.35990   \n",
       "3          0.0         0      1295.000                0     826.75073   \n",
       "4          0.0         0      1456.000                0    1779.63440   \n",
       "\n",
       "   weaponsAcquired  winPlace  \n",
       "0                8         4  \n",
       "1                2        15  \n",
       "2                3         1  \n",
       "3                4         2  \n",
       "4                3         5  \n",
       "\n",
       "[5 rows x 25 columns]"
      ]
     },
     "execution_count": 2,
     "metadata": {},
     "output_type": "execute_result"
    }
   ],
   "source": [
    "data = pd.read_csv(\"0723_all_concat.csv\", index_col = 0 )\n",
    "data.head()"
   ]
  },
  {
   "cell_type": "code",
   "execution_count": 3,
   "id": "e813260c",
   "metadata": {},
   "outputs": [],
   "source": [
    "# 필요없는 변수 삭제\n",
    "train = data.drop(columns = [\"playerId\",\"name\"], axis = 1)"
   ]
  },
  {
   "cell_type": "code",
   "execution_count": 4,
   "id": "92bbd325",
   "metadata": {},
   "outputs": [],
   "source": [
    "# 게임에서 튕긴 매치 제거\n",
    "# 이동거리0 피해량0인 튕긴것같은 매치스텟\n",
    "\n",
    "logout_index = train[(train[\"walkDistance\"] == 0) & (train[\"damageDealt\"] == 0)].index\n",
    "train.drop(logout_index, inplace = True)"
   ]
  },
  {
   "cell_type": "markdown",
   "id": "65ea18e6",
   "metadata": {},
   "source": [
    "### Feature Engineering"
   ]
  },
  {
   "cell_type": "code",
   "execution_count": null,
   "id": "1bf77647",
   "metadata": {},
   "outputs": [],
   "source": [
    "1. 이동거리 가중평균"
   ]
  },
  {
   "cell_type": "code",
   "execution_count": 6,
   "id": "f3696057",
   "metadata": {},
   "outputs": [],
   "source": [
    "# 가중치 결과값 → 수영 0.00 / 걷기 0.78 / 자동차 0.22\n",
    "train[\"movement_w_mean\"] = 0*train[\"swimDistance\"] + 0.78*train[\"walkDistance\"] + 0.22*train[\"vehicleDestroys\"]"
   ]
  },
  {
   "cell_type": "code",
   "execution_count": null,
   "id": "6e9f820e",
   "metadata": {},
   "outputs": [],
   "source": [
    "2. 킬플레이스 / 윈플레이스"
   ]
  },
  {
   "cell_type": "code",
   "execution_count": 7,
   "id": "fe629e7d",
   "metadata": {},
   "outputs": [],
   "source": [
    "train[\"kill_over_winPlae\"] = round(train[\"killPlace\"]/train[\"winPlace\"], 4)"
   ]
  },
  {
   "cell_type": "code",
   "execution_count": null,
   "id": "a241abd5",
   "metadata": {},
   "outputs": [],
   "source": [
    "3. 킬수 / 생존시간"
   ]
  },
  {
   "cell_type": "code",
   "execution_count": 8,
   "id": "26356a3f",
   "metadata": {},
   "outputs": [],
   "source": [
    "train[\"kill_over_timeSurvived\"] = round(train[\"kills\"]/train[\"timeSurvived\"], 4)"
   ]
  },
  {
   "cell_type": "code",
   "execution_count": null,
   "id": "30ca6a1d",
   "metadata": {},
   "outputs": [],
   "source": [
    "4. 라벨 인코딩"
   ]
  },
  {
   "cell_type": "code",
   "execution_count": 9,
   "id": "8d3dfb12",
   "metadata": {},
   "outputs": [],
   "source": [
    "from sklearn.preprocessing import LabelEncoder"
   ]
  },
  {
   "cell_type": "code",
   "execution_count": 10,
   "id": "81c18dea",
   "metadata": {},
   "outputs": [],
   "source": [
    "columns = [\"deathType\", \"mapName\", \"matchType\"]\n",
    "\n",
    "for col in columns :\n",
    "    label_encoder = LabelEncoder()\n",
    "    label_encoder.fit(train[col])\n",
    "    train[col] = label_encoder.transform(train[col])"
   ]
  },
  {
   "cell_type": "code",
   "execution_count": 11,
   "id": "067c8d5c",
   "metadata": {},
   "outputs": [
    {
     "name": "stdout",
     "output_type": "stream",
     "text": [
      "<class 'pandas.core.frame.DataFrame'>\n",
      "Int64Index: 36593 entries, 0 to 37064\n",
      "Data columns (total 26 columns):\n",
      " #   Column                  Non-Null Count  Dtype  \n",
      "---  ------                  --------------  -----  \n",
      " 0   DBNOs                   36593 non-null  int64  \n",
      " 1   assists                 36593 non-null  int64  \n",
      " 2   boosts                  36593 non-null  int64  \n",
      " 3   damageDealt             36593 non-null  float64\n",
      " 4   deathType               36593 non-null  int32  \n",
      " 5   headshotKills           36593 non-null  int64  \n",
      " 6   heals                   36593 non-null  int64  \n",
      " 7   killPlace               36593 non-null  int64  \n",
      " 8   killStreaks             36593 non-null  int64  \n",
      " 9   kills                   36593 non-null  int64  \n",
      " 10  longestKill             36593 non-null  float64\n",
      " 11  mapName                 36593 non-null  int32  \n",
      " 12  matchType               36593 non-null  int32  \n",
      " 13  revives                 36593 non-null  int64  \n",
      " 14  rideDistance            36593 non-null  float64\n",
      " 15  roadKills               36593 non-null  int64  \n",
      " 16  swimDistance            36593 non-null  float64\n",
      " 17  teamKills               36593 non-null  int64  \n",
      " 18  timeSurvived            36593 non-null  float64\n",
      " 19  vehicleDestroys         36593 non-null  int64  \n",
      " 20  walkDistance            36593 non-null  float64\n",
      " 21  weaponsAcquired         36593 non-null  int64  \n",
      " 22  winPlace                36593 non-null  int64  \n",
      " 23  movement_w_mean         36593 non-null  float64\n",
      " 24  kill_over_winPlae       36593 non-null  float64\n",
      " 25  kill_over_timeSurvived  36593 non-null  float64\n",
      "dtypes: float64(9), int32(3), int64(14)\n",
      "memory usage: 7.1 MB\n"
     ]
    }
   ],
   "source": [
    "train.info()"
   ]
  },
  {
   "cell_type": "code",
   "execution_count": null,
   "id": "83c71637",
   "metadata": {},
   "outputs": [],
   "source": []
  },
  {
   "cell_type": "markdown",
   "id": "f98a35ff",
   "metadata": {},
   "source": [
    "## Normalization"
   ]
  },
  {
   "cell_type": "markdown",
   "id": "5a8fd3f7",
   "metadata": {},
   "source": [
    "### MinMaxScaler"
   ]
  },
  {
   "cell_type": "code",
   "execution_count": 41,
   "id": "6b740b0c",
   "metadata": {},
   "outputs": [
    {
     "data": {
      "text/plain": [
       "(36593, 26)"
      ]
     },
     "execution_count": 41,
     "metadata": {},
     "output_type": "execute_result"
    }
   ],
   "source": [
    "from sklearn.preprocessing import MinMaxScaler\n",
    "\n",
    "scaler = MinMaxScaler()\n",
    "scaler.fit(train)\n",
    "train_scaled = scaler.transform(train)\n",
    "\n",
    "train_scaled_df = pd.DataFrame(data = train_scaled, columns = train.columns )\n",
    "\n",
    "train_scaled_df.shape"
   ]
  },
  {
   "cell_type": "markdown",
   "id": "d64cd42b",
   "metadata": {},
   "source": [
    "### StandardScaler"
   ]
  },
  {
   "cell_type": "code",
   "execution_count": 68,
   "id": "a849a7ea",
   "metadata": {},
   "outputs": [
    {
     "data": {
      "text/plain": [
       "(36593, 28)"
      ]
     },
     "execution_count": 68,
     "metadata": {},
     "output_type": "execute_result"
    }
   ],
   "source": [
    "from sklearn.preprocessing import StandardScaler\n",
    "\n",
    "scaler = StandardScaler()\n",
    "scaler.fit(train)\n",
    "train_scaled = scaler.transform(train)\n",
    "\n",
    "sta_train_scaled_df = pd.DataFrame(data = train_scaled, columns = train.columns )\n",
    "\n",
    "train_scaled_df.shape"
   ]
  },
  {
   "cell_type": "code",
   "execution_count": null,
   "id": "996569db",
   "metadata": {},
   "outputs": [],
   "source": []
  },
  {
   "cell_type": "markdown",
   "id": "4ddc8404",
   "metadata": {},
   "source": [
    "## PCA 차원축소"
   ]
  },
  {
   "cell_type": "code",
   "execution_count": 24,
   "id": "1a88cc92",
   "metadata": {},
   "outputs": [
    {
     "data": {
      "text/plain": [
       "PCA(n_components=13)"
      ]
     },
     "execution_count": 24,
     "metadata": {},
     "output_type": "execute_result"
    }
   ],
   "source": [
    "from sklearn.decomposition import PCA\n",
    "\n",
    "n_columns = 13\n",
    "pca = PCA(n_components = 13)\n",
    "pca.fit(train)"
   ]
  },
  {
   "cell_type": "code",
   "execution_count": 26,
   "id": "624c51b1",
   "metadata": {},
   "outputs": [
    {
     "data": {
      "text/plain": [
       "[<matplotlib.lines.Line2D at 0x270ba14b3a0>]"
      ]
     },
     "execution_count": 26,
     "metadata": {},
     "output_type": "execute_result"
    },
    {
     "data": {
      "image/png": "[encoded data removed]",
      "text/plain": [
       "<Figure size 432x288 with 1 Axes>"
      ]
     },
     "metadata": {
      "needs_background": "light"
     },
     "output_type": "display_data"
    }
   ],
   "source": [
    "plt.plot(pca.explained_variance_ratio_)"
   ]
  },
  {
   "cell_type": "code",
   "execution_count": 99,
   "id": "ce0594a5",
   "metadata": {},
   "outputs": [
    {
     "data": {
      "text/plain": [
       "0.9884635577554896"
      ]
     },
     "execution_count": 99,
     "metadata": {},
     "output_type": "execute_result"
    }
   ],
   "source": [
    "n_columns = 3\n",
    "pca = PCA(n_components = 3)\n",
    "pca.fit(train)\n",
    "\n",
    "np.sum(pca.explained_variance_ratio_)"
   ]
  },
  {
   "cell_type": "code",
   "execution_count": 101,
   "id": "8512dd19",
   "metadata": {},
   "outputs": [],
   "source": [
    "train_pca = pca.transform(train)\n",
    "\n",
    "##########################  여기 주의하기 #######################\n",
    "mMs = MinMaxScaler()\n",
    "stand = StandardScaler()\n",
    "train_pca_norm = mMs.fit_transform(train_pca)\n",
    "train_pca_df = pd.DataFrame(data = train_pca_norm, columns = ['pc1', 'pc2', 'pc3'])"
   ]
  },
  {
   "cell_type": "code",
   "execution_count": null,
   "id": "b2f471a0",
   "metadata": {},
   "outputs": [],
   "source": []
  },
  {
   "cell_type": "markdown",
   "id": "1c0b359f",
   "metadata": {},
   "source": [
    "## DBSCAN"
   ]
  },
  {
   "cell_type": "code",
   "execution_count": 127,
   "id": "53380381",
   "metadata": {},
   "outputs": [],
   "source": [
    "from sklearn.cluster import DBSCAN\n",
    "\n",
    "# SETTING\n",
    "dbs = DBSCAN(eps= .6, min_samples = 8, metric = \"euclidean\")\n",
    "\n",
    "# OUTPUT\n",
    "dbs_labels = dbs.fit_predict(train_pca) # DBSCAN 클러스터 라벨링 객체 생성\n",
    "\n",
    "# STACKING\n",
    "train_scaled_df['DBSCAN_cluster'] = dbs_labels"
   ]
  },
  {
   "cell_type": "code",
   "execution_count": 84,
   "id": "04976256",
   "metadata": {
    "scrolled": false
   },
   "outputs": [
    {
     "data": {
      "text/html": [
       "<div>\n",
       "<style scoped>\n",
       "    .dataframe tbody tr th:only-of-type {\n",
       "        vertical-align: middle;\n",
       "    }\n",
       "\n",
       "    .dataframe tbody tr th {\n",
       "        vertical-align: top;\n",
       "    }\n",
       "\n",
       "    .dataframe thead th {\n",
       "        text-align: right;\n",
       "    }\n",
       "</style>\n",
       "<table border=\"1\" class=\"dataframe\">\n",
       "  <thead>\n",
       "    <tr style=\"text-align: right;\">\n",
       "      <th></th>\n",
       "      <th>DBNOs</th>\n",
       "      <th>assists</th>\n",
       "      <th>boosts</th>\n",
       "      <th>damageDealt</th>\n",
       "      <th>deathType</th>\n",
       "      <th>headshotKills</th>\n",
       "      <th>heals</th>\n",
       "      <th>killPlace</th>\n",
       "      <th>killStreaks</th>\n",
       "      <th>kills</th>\n",
       "      <th>...</th>\n",
       "      <th>timeSurvived</th>\n",
       "      <th>vehicleDestroys</th>\n",
       "      <th>walkDistance</th>\n",
       "      <th>weaponsAcquired</th>\n",
       "      <th>winPlace</th>\n",
       "      <th>movement_w_mean</th>\n",
       "      <th>kill_over_winPlae</th>\n",
       "      <th>kill_over_timeSurvived</th>\n",
       "      <th>DBSCAN_cluster</th>\n",
       "      <th>silhouette_coeff</th>\n",
       "    </tr>\n",
       "  </thead>\n",
       "  <tbody>\n",
       "    <tr>\n",
       "      <th>0</th>\n",
       "      <td>0.019231</td>\n",
       "      <td>0.230769</td>\n",
       "      <td>0.500000</td>\n",
       "      <td>0.050919</td>\n",
       "      <td>0.25</td>\n",
       "      <td>0.000000</td>\n",
       "      <td>0.083333</td>\n",
       "      <td>0.069231</td>\n",
       "      <td>0.0625</td>\n",
       "      <td>0.030769</td>\n",
       "      <td>...</td>\n",
       "      <td>0.752643</td>\n",
       "      <td>0.00</td>\n",
       "      <td>0.029433</td>\n",
       "      <td>0.037736</td>\n",
       "      <td>0.030303</td>\n",
       "      <td>0.029433</td>\n",
       "      <td>0.030839</td>\n",
       "      <td>0.001598</td>\n",
       "      <td>-1</td>\n",
       "      <td>0.118074</td>\n",
       "    </tr>\n",
       "    <tr>\n",
       "      <th>1</th>\n",
       "      <td>0.000000</td>\n",
       "      <td>0.076923</td>\n",
       "      <td>0.000000</td>\n",
       "      <td>0.000000</td>\n",
       "      <td>0.50</td>\n",
       "      <td>0.000000</td>\n",
       "      <td>0.000000</td>\n",
       "      <td>0.415385</td>\n",
       "      <td>0.0000</td>\n",
       "      <td>0.000000</td>\n",
       "      <td>...</td>\n",
       "      <td>0.450070</td>\n",
       "      <td>0.00</td>\n",
       "      <td>0.002827</td>\n",
       "      <td>0.009434</td>\n",
       "      <td>0.141414</td>\n",
       "      <td>0.002827</td>\n",
       "      <td>0.045429</td>\n",
       "      <td>0.000000</td>\n",
       "      <td>-1</td>\n",
       "      <td>-0.080722</td>\n",
       "    </tr>\n",
       "    <tr>\n",
       "      <th>2</th>\n",
       "      <td>0.192308</td>\n",
       "      <td>0.230769</td>\n",
       "      <td>0.318182</td>\n",
       "      <td>0.165359</td>\n",
       "      <td>0.00</td>\n",
       "      <td>0.107143</td>\n",
       "      <td>0.083333</td>\n",
       "      <td>0.007692</td>\n",
       "      <td>0.2500</td>\n",
       "      <td>0.123077</td>\n",
       "      <td>...</td>\n",
       "      <td>0.814020</td>\n",
       "      <td>0.00</td>\n",
       "      <td>0.020894</td>\n",
       "      <td>0.014151</td>\n",
       "      <td>0.000000</td>\n",
       "      <td>0.020894</td>\n",
       "      <td>0.024587</td>\n",
       "      <td>0.006146</td>\n",
       "      <td>-1</td>\n",
       "      <td>0.149450</td>\n",
       "    </tr>\n",
       "    <tr>\n",
       "      <th>3</th>\n",
       "      <td>0.000000</td>\n",
       "      <td>0.000000</td>\n",
       "      <td>0.045455</td>\n",
       "      <td>0.011434</td>\n",
       "      <td>0.25</td>\n",
       "      <td>0.000000</td>\n",
       "      <td>0.000000</td>\n",
       "      <td>0.092308</td>\n",
       "      <td>0.0625</td>\n",
       "      <td>0.015385</td>\n",
       "      <td>...</td>\n",
       "      <td>0.653133</td>\n",
       "      <td>0.00</td>\n",
       "      <td>0.009741</td>\n",
       "      <td>0.018868</td>\n",
       "      <td>0.010101</td>\n",
       "      <td>0.009741</td>\n",
       "      <td>0.080861</td>\n",
       "      <td>0.000983</td>\n",
       "      <td>-1</td>\n",
       "      <td>-0.082993</td>\n",
       "    </tr>\n",
       "    <tr>\n",
       "      <th>4</th>\n",
       "      <td>0.153846</td>\n",
       "      <td>0.230769</td>\n",
       "      <td>0.409091</td>\n",
       "      <td>0.118013</td>\n",
       "      <td>0.25</td>\n",
       "      <td>0.107143</td>\n",
       "      <td>0.027778</td>\n",
       "      <td>0.000000</td>\n",
       "      <td>0.1250</td>\n",
       "      <td>0.092308</td>\n",
       "      <td>...</td>\n",
       "      <td>0.734458</td>\n",
       "      <td>0.00</td>\n",
       "      <td>0.020968</td>\n",
       "      <td>0.014151</td>\n",
       "      <td>0.040404</td>\n",
       "      <td>0.020968</td>\n",
       "      <td>0.002077</td>\n",
       "      <td>0.005040</td>\n",
       "      <td>-1</td>\n",
       "      <td>0.194579</td>\n",
       "    </tr>\n",
       "    <tr>\n",
       "      <th>...</th>\n",
       "      <td>...</td>\n",
       "      <td>...</td>\n",
       "      <td>...</td>\n",
       "      <td>...</td>\n",
       "      <td>...</td>\n",
       "      <td>...</td>\n",
       "      <td>...</td>\n",
       "      <td>...</td>\n",
       "      <td>...</td>\n",
       "      <td>...</td>\n",
       "      <td>...</td>\n",
       "      <td>...</td>\n",
       "      <td>...</td>\n",
       "      <td>...</td>\n",
       "      <td>...</td>\n",
       "      <td>...</td>\n",
       "      <td>...</td>\n",
       "      <td>...</td>\n",
       "      <td>...</td>\n",
       "      <td>...</td>\n",
       "      <td>...</td>\n",
       "    </tr>\n",
       "    <tr>\n",
       "      <th>36588</th>\n",
       "      <td>0.019231</td>\n",
       "      <td>0.000000</td>\n",
       "      <td>0.409091</td>\n",
       "      <td>0.051482</td>\n",
       "      <td>0.00</td>\n",
       "      <td>0.035714</td>\n",
       "      <td>0.111111</td>\n",
       "      <td>0.115385</td>\n",
       "      <td>0.0625</td>\n",
       "      <td>0.015385</td>\n",
       "      <td>...</td>\n",
       "      <td>0.936111</td>\n",
       "      <td>0.00</td>\n",
       "      <td>0.019863</td>\n",
       "      <td>0.033019</td>\n",
       "      <td>0.000000</td>\n",
       "      <td>0.019863</td>\n",
       "      <td>0.199661</td>\n",
       "      <td>0.000615</td>\n",
       "      <td>-1</td>\n",
       "      <td>0.021840</td>\n",
       "    </tr>\n",
       "    <tr>\n",
       "      <th>36589</th>\n",
       "      <td>0.038462</td>\n",
       "      <td>0.076923</td>\n",
       "      <td>0.136364</td>\n",
       "      <td>0.058318</td>\n",
       "      <td>0.25</td>\n",
       "      <td>0.071429</td>\n",
       "      <td>0.055556</td>\n",
       "      <td>0.023077</td>\n",
       "      <td>0.1250</td>\n",
       "      <td>0.046154</td>\n",
       "      <td>...</td>\n",
       "      <td>0.588476</td>\n",
       "      <td>0.00</td>\n",
       "      <td>0.018736</td>\n",
       "      <td>0.028302</td>\n",
       "      <td>0.000000</td>\n",
       "      <td>0.018736</td>\n",
       "      <td>0.049597</td>\n",
       "      <td>0.003196</td>\n",
       "      <td>-1</td>\n",
       "      <td>0.063330</td>\n",
       "    </tr>\n",
       "    <tr>\n",
       "      <th>36590</th>\n",
       "      <td>0.038462</td>\n",
       "      <td>0.076923</td>\n",
       "      <td>0.363636</td>\n",
       "      <td>0.100897</td>\n",
       "      <td>0.00</td>\n",
       "      <td>0.000000</td>\n",
       "      <td>0.333333</td>\n",
       "      <td>0.215385</td>\n",
       "      <td>0.0000</td>\n",
       "      <td>0.000000</td>\n",
       "      <td>...</td>\n",
       "      <td>0.897774</td>\n",
       "      <td>0.25</td>\n",
       "      <td>0.014120</td>\n",
       "      <td>0.037736</td>\n",
       "      <td>0.000000</td>\n",
       "      <td>0.014124</td>\n",
       "      <td>0.362230</td>\n",
       "      <td>0.000000</td>\n",
       "      <td>-1</td>\n",
       "      <td>0.026117</td>\n",
       "    </tr>\n",
       "    <tr>\n",
       "      <th>36591</th>\n",
       "      <td>0.096154</td>\n",
       "      <td>0.076923</td>\n",
       "      <td>0.545455</td>\n",
       "      <td>0.140288</td>\n",
       "      <td>0.00</td>\n",
       "      <td>0.142857</td>\n",
       "      <td>0.138889</td>\n",
       "      <td>0.000000</td>\n",
       "      <td>0.1250</td>\n",
       "      <td>0.123077</td>\n",
       "      <td>...</td>\n",
       "      <td>0.924690</td>\n",
       "      <td>0.50</td>\n",
       "      <td>0.024720</td>\n",
       "      <td>0.018868</td>\n",
       "      <td>0.000000</td>\n",
       "      <td>0.024727</td>\n",
       "      <td>0.012081</td>\n",
       "      <td>0.005409</td>\n",
       "      <td>-1</td>\n",
       "      <td>0.112824</td>\n",
       "    </tr>\n",
       "    <tr>\n",
       "      <th>36592</th>\n",
       "      <td>0.057692</td>\n",
       "      <td>0.076923</td>\n",
       "      <td>0.545455</td>\n",
       "      <td>0.113118</td>\n",
       "      <td>0.00</td>\n",
       "      <td>0.035714</td>\n",
       "      <td>0.083333</td>\n",
       "      <td>0.000000</td>\n",
       "      <td>0.0625</td>\n",
       "      <td>0.076923</td>\n",
       "      <td>...</td>\n",
       "      <td>0.973149</td>\n",
       "      <td>0.25</td>\n",
       "      <td>0.022440</td>\n",
       "      <td>0.051887</td>\n",
       "      <td>0.000000</td>\n",
       "      <td>0.022444</td>\n",
       "      <td>0.012081</td>\n",
       "      <td>0.003196</td>\n",
       "      <td>-1</td>\n",
       "      <td>0.064911</td>\n",
       "    </tr>\n",
       "  </tbody>\n",
       "</table>\n",
       "<p>36593 rows × 28 columns</p>\n",
       "</div>"
      ],
      "text/plain": [
       "          DBNOs   assists    boosts  damageDealt  deathType  headshotKills  \\\n",
       "0      0.019231  0.230769  0.500000     0.050919       0.25       0.000000   \n",
       "1      0.000000  0.076923  0.000000     0.000000       0.50       0.000000   \n",
       "2      0.192308  0.230769  0.318182     0.165359       0.00       0.107143   \n",
       "3      0.000000  0.000000  0.045455     0.011434       0.25       0.000000   \n",
       "4      0.153846  0.230769  0.409091     0.118013       0.25       0.107143   \n",
       "...         ...       ...       ...          ...        ...            ...   \n",
       "36588  0.019231  0.000000  0.409091     0.051482       0.00       0.035714   \n",
       "36589  0.038462  0.076923  0.136364     0.058318       0.25       0.071429   \n",
       "36590  0.038462  0.076923  0.363636     0.100897       0.00       0.000000   \n",
       "36591  0.096154  0.076923  0.545455     0.140288       0.00       0.142857   \n",
       "36592  0.057692  0.076923  0.545455     0.113118       0.00       0.035714   \n",
       "\n",
       "          heals  killPlace  killStreaks     kills  ...  timeSurvived  \\\n",
       "0      0.083333   0.069231       0.0625  0.030769  ...      0.752643   \n",
       "1      0.000000   0.415385       0.0000  0.000000  ...      0.450070   \n",
       "2      0.083333   0.007692       0.2500  0.123077  ...      0.814020   \n",
       "3      0.000000   0.092308       0.0625  0.015385  ...      0.653133   \n",
       "4      0.027778   0.000000       0.1250  0.092308  ...      0.734458   \n",
       "...         ...        ...          ...       ...  ...           ...   \n",
       "36588  0.111111   0.115385       0.0625  0.015385  ...      0.936111   \n",
       "36589  0.055556   0.023077       0.1250  0.046154  ...      0.588476   \n",
       "36590  0.333333   0.215385       0.0000  0.000000  ...      0.897774   \n",
       "36591  0.138889   0.000000       0.1250  0.123077  ...      0.924690   \n",
       "36592  0.083333   0.000000       0.0625  0.076923  ...      0.973149   \n",
       "\n",
       "       vehicleDestroys  walkDistance  weaponsAcquired  winPlace  \\\n",
       "0                 0.00      0.029433         0.037736  0.030303   \n",
       "1                 0.00      0.002827         0.009434  0.141414   \n",
       "2                 0.00      0.020894         0.014151  0.000000   \n",
       "3                 0.00      0.009741         0.018868  0.010101   \n",
       "4                 0.00      0.020968         0.014151  0.040404   \n",
       "...                ...           ...              ...       ...   \n",
       "36588             0.00      0.019863         0.033019  0.000000   \n",
       "36589             0.00      0.018736         0.028302  0.000000   \n",
       "36590             0.25      0.014120         0.037736  0.000000   \n",
       "36591             0.50      0.024720         0.018868  0.000000   \n",
       "36592             0.25      0.022440         0.051887  0.000000   \n",
       "\n",
       "       movement_w_mean  kill_over_winPlae  kill_over_timeSurvived  \\\n",
       "0             0.029433           0.030839                0.001598   \n",
       "1             0.002827           0.045429                0.000000   \n",
       "2             0.020894           0.024587                0.006146   \n",
       "3             0.009741           0.080861                0.000983   \n",
       "4             0.020968           0.002077                0.005040   \n",
       "...                ...                ...                     ...   \n",
       "36588         0.019863           0.199661                0.000615   \n",
       "36589         0.018736           0.049597                0.003196   \n",
       "36590         0.014124           0.362230                0.000000   \n",
       "36591         0.024727           0.012081                0.005409   \n",
       "36592         0.022444           0.012081                0.003196   \n",
       "\n",
       "       DBSCAN_cluster  silhouette_coeff  \n",
       "0                  -1          0.118074  \n",
       "1                  -1         -0.080722  \n",
       "2                  -1          0.149450  \n",
       "3                  -1         -0.082993  \n",
       "4                  -1          0.194579  \n",
       "...               ...               ...  \n",
       "36588              -1          0.021840  \n",
       "36589              -1          0.063330  \n",
       "36590              -1          0.026117  \n",
       "36591              -1          0.112824  \n",
       "36592              -1          0.064911  \n",
       "\n",
       "[36593 rows x 28 columns]"
      ]
     },
     "execution_count": 84,
     "metadata": {},
     "output_type": "execute_result"
    }
   ],
   "source": [
    "train_scaled_df"
   ]
  },
  {
   "cell_type": "code",
   "execution_count": null,
   "id": "6973325f",
   "metadata": {},
   "outputs": [],
   "source": []
  },
  {
   "cell_type": "markdown",
   "id": "1cfc0bf7",
   "metadata": {},
   "source": [
    "### ESTIMATING"
   ]
  },
  {
   "cell_type": "code",
   "execution_count": 91,
   "id": "f814d01a",
   "metadata": {},
   "outputs": [],
   "source": [
    "from sklearn.metrics import silhouette_samples, silhouette_score"
   ]
  },
  {
   "cell_type": "code",
   "execution_count": 128,
   "id": "c560eac0",
   "metadata": {},
   "outputs": [
    {
     "name": "stdout",
     "output_type": "stream",
     "text": [
      "silhouette_samples() return 값의 shape (36593,)\n"
     ]
    }
   ],
   "source": [
    "# 모든 개별 데이터 실루엣 계수 값 구하기\n",
    "score_samples = silhouette_samples(train_scaled, train_scaled_df[\"DBSCAN_cluster\"])\n",
    "print(\"silhouette_samples() return 값의 shape\", score_samples.shape)"
   ]
  },
  {
   "cell_type": "code",
   "execution_count": 129,
   "id": "060fc105",
   "metadata": {},
   "outputs": [],
   "source": [
    "# train_scaled_df에 실루엣 계수 컬럼 추가\n",
    "train_scaled_df[\"silhouette_coeff\"] = score_samples"
   ]
  },
  {
   "cell_type": "code",
   "execution_count": 130,
   "id": "16d04366",
   "metadata": {
    "scrolled": true
   },
   "outputs": [
    {
     "name": "stdout",
     "output_type": "stream",
     "text": [
      "개인 플레이 성향 Silhouette Analysis Score: 0.012110\n"
     ]
    }
   ],
   "source": [
    "# 모든 데이터의 평균 실루엣 계수 값 구하기\n",
    "average_score = silhouette_score(train_scaled, train_scaled_df[\"DBSCAN_cluster\"])\n",
    "print(\"개인 플레이 성향 Silhouette Analysis Score: {0:3f}\".format(average_score))"
   ]
  },
  {
   "cell_type": "code",
   "execution_count": null,
   "id": "f81e879d",
   "metadata": {},
   "outputs": [],
   "source": []
  },
  {
   "cell_type": "code",
   "execution_count": null,
   "id": "54a4b404",
   "metadata": {},
   "outputs": [],
   "source": []
  },
  {
   "cell_type": "code",
   "execution_count": null,
   "id": "ef8442fb",
   "metadata": {},
   "outputs": [],
   "source": []
  },
  {
   "cell_type": "code",
   "execution_count": null,
   "id": "ffb67c93",
   "metadata": {},
   "outputs": [],
   "source": []
  },
  {
   "cell_type": "code",
   "execution_count": null,
   "id": "e4a1e950",
   "metadata": {},
   "outputs": [],
   "source": []
  },
  {
   "cell_type": "code",
   "execution_count": null,
   "id": "050fa2a1",
   "metadata": {},
   "outputs": [],
   "source": []
  },
  {
   "cell_type": "code",
   "execution_count": null,
   "id": "055e8bd8",
   "metadata": {},
   "outputs": [],
   "source": []
  },
  {
   "cell_type": "code",
   "execution_count": null,
   "id": "5e5127b1",
   "metadata": {},
   "outputs": [],
   "source": []
  },
  {
   "cell_type": "code",
   "execution_count": null,
   "id": "5396ac92",
   "metadata": {},
   "outputs": [],
   "source": []
  },
  {
   "cell_type": "code",
   "execution_count": null,
   "id": "8861e5ed",
   "metadata": {},
   "outputs": [],
   "source": []
  },
  {
   "cell_type": "code",
   "execution_count": null,
   "id": "d226819c",
   "metadata": {},
   "outputs": [],
   "source": []
  },
  {
   "cell_type": "code",
   "execution_count": null,
   "id": "166ffc80",
   "metadata": {},
   "outputs": [],
   "source": []
  },
  {
   "cell_type": "code",
   "execution_count": null,
   "id": "17947e46",
   "metadata": {},
   "outputs": [],
   "source": []
  }
 ],
 "metadata": {
  "kernelspec": {
   "display_name": "Python 3",
   "language": "python",
   "name": "python3"
  },
  "language_info": {
   "codemirror_mode": {
    "name": "ipython",
    "version": 3
   },
   "file_extension": ".py",
   "mimetype": "text/x-python",
   "name": "python",
   "nbconvert_exporter": "python",
   "pygments_lexer": "ipython3",
   "version": "3.8.8"
  }
 },
 "nbformat": 4,
 "nbformat_minor": 5
}
